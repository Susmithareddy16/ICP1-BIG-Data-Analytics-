{
  "nbformat": 4,
  "nbformat_minor": 0,
  "metadata": {
    "colab": {
      "provenance": []
    },
    "kernelspec": {
      "name": "python3",
      "display_name": "Python 3"
    },
    "language_info": {
      "name": "python"
    }
  },
  "cells": [
    {
      "cell_type": "code",
      "execution_count": 2,
      "metadata": {
        "colab": {
          "base_uri": "https://localhost:8080/"
        },
        "id": "nddvGBTStNqx",
        "outputId": "cc4c8306-fdd7-4da9-9440-647f78e74287"
      },
      "outputs": [
        {
          "output_type": "stream",
          "name": "stdout",
          "text": [
            "Instance count: 2, Class count: 3\n",
            "Instance count: 1, Class count: 3\n"
          ]
        }
      ],
      "source": [
        "#program1\n",
        "class Counter:\n",
        "    # Class variable: shared among all instances\n",
        "    count = 0\n",
        "\n",
        "    def __init__(self):\n",
        "        # Instance variable: unique to each object\n",
        "        self._count = 0\n",
        "\n",
        "    def increment(self):\n",
        "        # Increment both instance and class variable\n",
        "        self._count += 1\n",
        "        Counter.count += 1\n",
        "\n",
        "    def get_counts(self):\n",
        "        # Return both instance and class count\n",
        "        return f\"Instance count: {self._count}, Class count: {Counter.count}\"\n",
        "\n",
        "\n",
        "# Create two objects of Counter class\n",
        "a = Counter()\n",
        "b = Counter()\n",
        "\n",
        "# Call increment method on object 'a' twice\n",
        "a.increment()  # a._count = 1, Counter.count = 1\n",
        "a.increment()  # a._count = 2, Counter.count = 2\n",
        "\n",
        "# Call increment method on object 'b' once\n",
        "b.increment()  # b._count = 1, Counter.count = 3\n",
        "\n",
        "# Print counts for both objects\n",
        "print(a.get_counts())  # Output: Instance count: 2, Class count: 3\n",
        "print(b.get_counts())  # Output: Instance count: 1, Class count: 3\n"
      ]
    },
    {
      "cell_type": "markdown",
      "source": [
        "Task1: Difference between Counter.count and self._count\n",
        "\n",
        "* Counter.count: A class variable shared by all objects. Tracks total increments across all instances.\n",
        "\n",
        "* self._count: An instance variable. Tracks increments for that specific object only.\n",
        "\n",
        "Task2: Output of a.get_counts() and b.get_counts()\n",
        "\n",
        "* a.get_counts() → Instance count: 2, Class count: 3\n",
        "* b.get_counts() → Instance count: 1, Class count: 3\n",
        "\n",
        "Task3: Effect of increment() method\n",
        "* Increases instance variable by 1 (self._count)\n",
        "* Increases class variable by 1 (Counter.count)\n",
        "\n",
        "\n",
        "\n"
      ],
      "metadata": {
        "id": "Sq9ayrqAt_Tz"
      }
    },
    {
      "cell_type": "code",
      "source": [
        "## program 2\n",
        "# Define function to accept multiple arguments using *args\n",
        "def sum_all(*args):\n",
        "    return sum(args)\n",
        "\n",
        "# Call the function with multiple numbers\n",
        "print(\"Sum of 1, 2, 3 is:\", sum_all(1, 2, 3))\n",
        "print(\"Sum of 4, 5, 6, 7 is:\", sum_all(4, 5, 6, 7))\n"
      ],
      "metadata": {
        "colab": {
          "base_uri": "https://localhost:8080/"
        },
        "id": "EXmfycOrtjW9",
        "outputId": "49dc8b04-d3e0-45de-bfb4-c17f614828ff"
      },
      "execution_count": 3,
      "outputs": [
        {
          "output_type": "stream",
          "name": "stdout",
          "text": [
            "Sum of 1, 2, 3 is: 6\n",
            "Sum of 4, 5, 6, 7 is: 22\n"
          ]
        }
      ]
    },
    {
      "cell_type": "code",
      "source": [
        "###program: 3\n",
        "def first_word(word_list):\n",
        "    sorted_list = sorted(word_list)   # Sort the list alphabetically\n",
        "    return sorted_list[0]             # Return the first item\n",
        "\n",
        "# Example input\n",
        "students = ['Mary', 'Zelda', 'Jimmy', 'Jack', 'Bartholomew', 'Gertrude']\n",
        "\n",
        "# Function call and output\n",
        "print(first_word(students))  # Output: Bartholomew\n"
      ],
      "metadata": {
        "colab": {
          "base_uri": "https://localhost:8080/"
        },
        "id": "NcDTH9Prvmv4",
        "outputId": "29656210-8daa-4692-a658-9f37092182cf"
      },
      "execution_count": 9,
      "outputs": [
        {
          "output_type": "stream",
          "name": "stdout",
          "text": [
            "Bartholomew\n"
          ]
        }
      ]
    },
    {
      "cell_type": "code",
      "source": [
        "####program 4:\n",
        "# Base class\n",
        "class Employee:\n",
        "    employee_count = 0     # Class variable to count number of employees\n",
        "    total_salary = 0       # To calculate average salary later\n",
        "\n",
        "    def __init__(self, name, family, salary, department):\n",
        "        self.name = name\n",
        "        self.family = family\n",
        "        self.salary = salary\n",
        "        self.department = department\n",
        "        Employee.employee_count += 1\n",
        "        Employee.total_salary += salary\n",
        "\n",
        "    def average_salary(self):\n",
        "        if Employee.employee_count == 0:\n",
        "            return 0\n",
        "        return Employee.total_salary / Employee.employee_count\n",
        "\n",
        "\n",
        "# Subclass\n",
        "class FulltimeEmployee(Employee):\n",
        "    def __init__(self, name, family, salary, department):\n",
        "        super().__init__(name, family, salary, department)\n",
        "\n",
        "\n",
        "# Create instances of Employee and FulltimeEmployee\n",
        "emp1 = Employee(\"Alice\", \"Smith\", 50000, \"HR\")\n",
        "emp2 = FulltimeEmployee(\"Bob\", \"Johnson\", 60000, \"Finance\")\n",
        "emp3 = FulltimeEmployee(\"Carol\", \"Williams\", 70000, \"IT\")\n",
        "\n",
        "# Call member functions\n",
        "print(\"Total Employees:\", Employee.employee_count)\n",
        "print(\"Average Salary:\", emp1.average_salary())\n",
        "print(\"Employee 1 Name:\", emp1.name)\n",
        "print(\"Employee 2 Name:\", emp2.name)\n",
        "print(\"Employee 3 Department:\", emp3.department)\n"
      ],
      "metadata": {
        "colab": {
          "base_uri": "https://localhost:8080/"
        },
        "id": "Wo10E0Rmv7MO",
        "outputId": "a9c23c18-a702-4383-a88c-5aa535839ea8"
      },
      "execution_count": 10,
      "outputs": [
        {
          "output_type": "stream",
          "name": "stdout",
          "text": [
            "Total Employees: 3\n",
            "Average Salary: 60000.0\n",
            "Employee 1 Name: Alice\n",
            "Employee 2 Name: Bob\n",
            "Employee 3 Department: IT\n"
          ]
        }
      ]
    },
    {
      "cell_type": "code",
      "source": [],
      "metadata": {
        "id": "cScNuAnnwVBT"
      },
      "execution_count": null,
      "outputs": []
    }
  ]
}